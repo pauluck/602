{
 "cells": [
  {
   "cell_type": "markdown",
   "metadata": {},
   "source": [
    "# Spring DATA 602 - Semester Project\n",
    "### Puneet Auluck"
   ]
  },
  {
   "cell_type": "markdown",
   "metadata": {},
   "source": [
    "In the early 19th century, various types of alcohol consumption increased in America because of overabundance of corn available in the Western region. Today alcohol is a critical part of American diet. It is readily available than ever. We do not have data from earlier period, but World Health Org. has recent data from 2000-2010 that we can use to examine if there is an increasing trend in alcohol consumption in America. The data also contains information on other countries. We will also look at how it has affected throughout the globe."
   ]
  },
  {
   "cell_type": "markdown",
   "metadata": {},
   "source": [
    "Data Source: http://apps.who.int/gho/data/node.main.A1026?lang=en\n",
    "\n",
    "Uploaded to Github: https://raw.githubusercontent.com/pauluck/602/master/al.csv"
   ]
  },
  {
   "cell_type": "markdown",
   "metadata": {},
   "source": [
    "### Load data file using pandas library"
   ]
  },
  {
   "cell_type": "code",
   "execution_count": 29,
   "metadata": {
    "collapsed": false,
    "scrolled": true
   },
   "outputs": [
    {
     "name": "stdout",
     "output_type": "stream",
     "text": [
      "\n",
      "Raw Alchohol consumption data.\n",
      "Displaying first few lines...\n"
     ]
    },
    {
     "data": {
      "text/html": [
       "<div>\n",
       "<table border=\"1\" class=\"dataframe\">\n",
       "  <thead>\n",
       "    <tr style=\"text-align: right;\">\n",
       "      <th></th>\n",
       "      <th>Country</th>\n",
       "      <th>Data Source</th>\n",
       "      <th>Beverage Types</th>\n",
       "      <th>2013</th>\n",
       "      <th>2012</th>\n",
       "      <th>2011</th>\n",
       "      <th>2010</th>\n",
       "      <th>2009</th>\n",
       "      <th>2008</th>\n",
       "      <th>2007</th>\n",
       "      <th>2006</th>\n",
       "      <th>2005</th>\n",
       "      <th>2004</th>\n",
       "      <th>2003</th>\n",
       "      <th>2002</th>\n",
       "      <th>2001</th>\n",
       "      <th>2000</th>\n",
       "    </tr>\n",
       "  </thead>\n",
       "  <tbody>\n",
       "    <tr>\n",
       "      <th>0</th>\n",
       "      <td>Afghanistan</td>\n",
       "      <td>Data source</td>\n",
       "      <td>All types</td>\n",
       "      <td>NaN</td>\n",
       "      <td>NaN</td>\n",
       "      <td>NaN</td>\n",
       "      <td>0.00</td>\n",
       "      <td>0.00</td>\n",
       "      <td>0.03</td>\n",
       "      <td>0.02</td>\n",
       "      <td>0.03</td>\n",
       "      <td>0.01</td>\n",
       "      <td>0.01</td>\n",
       "      <td>0.01</td>\n",
       "      <td>0.00</td>\n",
       "      <td>0.00</td>\n",
       "      <td>0.00</td>\n",
       "    </tr>\n",
       "    <tr>\n",
       "      <th>1</th>\n",
       "      <td>Afghanistan</td>\n",
       "      <td>Data source</td>\n",
       "      <td>Beer</td>\n",
       "      <td>NaN</td>\n",
       "      <td>NaN</td>\n",
       "      <td>NaN</td>\n",
       "      <td>0.00</td>\n",
       "      <td>0.00</td>\n",
       "      <td>0.01</td>\n",
       "      <td>0.01</td>\n",
       "      <td>0.01</td>\n",
       "      <td>0.00</td>\n",
       "      <td>0.00</td>\n",
       "      <td>0.00</td>\n",
       "      <td>0.00</td>\n",
       "      <td>0.00</td>\n",
       "      <td>0.00</td>\n",
       "    </tr>\n",
       "    <tr>\n",
       "      <th>2</th>\n",
       "      <td>Afghanistan</td>\n",
       "      <td>Data source</td>\n",
       "      <td>Wine</td>\n",
       "      <td>NaN</td>\n",
       "      <td>NaN</td>\n",
       "      <td>NaN</td>\n",
       "      <td>0.00</td>\n",
       "      <td>0.00</td>\n",
       "      <td>0.00</td>\n",
       "      <td>0.01</td>\n",
       "      <td>0.01</td>\n",
       "      <td>0.00</td>\n",
       "      <td>0.00</td>\n",
       "      <td>0.00</td>\n",
       "      <td>0.00</td>\n",
       "      <td>0.00</td>\n",
       "      <td>0.00</td>\n",
       "    </tr>\n",
       "    <tr>\n",
       "      <th>3</th>\n",
       "      <td>Afghanistan</td>\n",
       "      <td>Data source</td>\n",
       "      <td>Spirits</td>\n",
       "      <td>NaN</td>\n",
       "      <td>NaN</td>\n",
       "      <td>NaN</td>\n",
       "      <td>0.00</td>\n",
       "      <td>0.00</td>\n",
       "      <td>0.02</td>\n",
       "      <td>0.00</td>\n",
       "      <td>0.02</td>\n",
       "      <td>0.01</td>\n",
       "      <td>0.01</td>\n",
       "      <td>0.01</td>\n",
       "      <td>0.00</td>\n",
       "      <td>0.00</td>\n",
       "      <td>0.00</td>\n",
       "    </tr>\n",
       "    <tr>\n",
       "      <th>4</th>\n",
       "      <td>Afghanistan</td>\n",
       "      <td>Data source</td>\n",
       "      <td>Other alcoholic beverages</td>\n",
       "      <td>NaN</td>\n",
       "      <td>NaN</td>\n",
       "      <td>NaN</td>\n",
       "      <td>0.00</td>\n",
       "      <td>0.00</td>\n",
       "      <td>0.00</td>\n",
       "      <td>0.00</td>\n",
       "      <td>0.00</td>\n",
       "      <td>0.00</td>\n",
       "      <td>0.00</td>\n",
       "      <td>0.00</td>\n",
       "      <td>0.00</td>\n",
       "      <td>0.00</td>\n",
       "      <td>0.00</td>\n",
       "    </tr>\n",
       "  </tbody>\n",
       "</table>\n",
       "</div>"
      ],
      "text/plain": [
       "       Country  Data Source             Beverage Types 2013 2012 2011  2010  \\\n",
       "0  Afghanistan  Data source                  All types  NaN  NaN  NaN  0.00   \n",
       "1  Afghanistan  Data source                       Beer  NaN  NaN  NaN  0.00   \n",
       "2  Afghanistan  Data source                       Wine  NaN  NaN  NaN  0.00   \n",
       "3  Afghanistan  Data source                    Spirits  NaN  NaN  NaN  0.00   \n",
       "4  Afghanistan  Data source  Other alcoholic beverages  NaN  NaN  NaN  0.00   \n",
       "\n",
       "   2009  2008  2007  2006  2005  2004  2003  2002  2001  2000  \n",
       "0  0.00  0.03  0.02  0.03  0.01  0.01  0.01  0.00  0.00  0.00  \n",
       "1  0.00  0.01  0.01  0.01  0.00  0.00  0.00  0.00  0.00  0.00  \n",
       "2  0.00  0.00  0.01  0.01  0.00  0.00  0.00  0.00  0.00  0.00  \n",
       "3  0.00  0.02  0.00  0.02  0.01  0.01  0.01  0.00  0.00  0.00  \n",
       "4  0.00  0.00  0.00  0.00  0.00  0.00  0.00  0.00  0.00  0.00  "
      ]
     },
     "metadata": {},
     "output_type": "display_data"
    }
   ],
   "source": [
    "# http://rpubs.com/puneetauluck/172712\n",
    "import pandas as pd\n",
    "import numpy as np\n",
    "from IPython.display import display, HTML\n",
    "\n",
    "# alraw = pd.read_csv('https://raw.githubusercontent.com/pauluck/602/master/al.csv', \n",
    "#                    names=['country','datasource','bev_type','2013',\n",
    "#                            '2012','2011','2010','2009',\n",
    "#                            '2008','2007','2006','2005',\n",
    "#                            '2004','2003','2002','2001','2000'], index_col=False)\n",
    "\n",
    "alraw = pd.read_csv('https://raw.githubusercontent.com/pauluck/602/master/al.csv')\n",
    "\n",
    "print \"\\nRaw Alchohol consumption data.\"\n",
    "print \"Displaying first few lines...\"\n",
    "\n",
    "display(alraw.head())"
   ]
  },
  {
   "cell_type": "markdown",
   "metadata": {},
   "source": [
    "### Drop columns not needed"
   ]
  },
  {
   "cell_type": "code",
   "execution_count": 30,
   "metadata": {
    "collapsed": false
   },
   "outputs": [
    {
     "name": "stdout",
     "output_type": "stream",
     "text": [
      "\n"
     ]
    },
    {
     "data": {
      "text/html": [
       "<div>\n",
       "<table border=\"1\" class=\"dataframe\">\n",
       "  <thead>\n",
       "    <tr style=\"text-align: right;\">\n",
       "      <th></th>\n",
       "      <th>Country</th>\n",
       "      <th>Beverage Types</th>\n",
       "      <th>2010</th>\n",
       "      <th>2009</th>\n",
       "      <th>2008</th>\n",
       "      <th>2007</th>\n",
       "      <th>2006</th>\n",
       "      <th>2005</th>\n",
       "      <th>2004</th>\n",
       "      <th>2003</th>\n",
       "      <th>2002</th>\n",
       "      <th>2001</th>\n",
       "      <th>2000</th>\n",
       "    </tr>\n",
       "  </thead>\n",
       "  <tbody>\n",
       "    <tr>\n",
       "      <th>0</th>\n",
       "      <td>Afghanistan</td>\n",
       "      <td>All types</td>\n",
       "      <td>0.00</td>\n",
       "      <td>0.00</td>\n",
       "      <td>0.03</td>\n",
       "      <td>0.02</td>\n",
       "      <td>0.03</td>\n",
       "      <td>0.01</td>\n",
       "      <td>0.01</td>\n",
       "      <td>0.01</td>\n",
       "      <td>0.00</td>\n",
       "      <td>0.00</td>\n",
       "      <td>0.00</td>\n",
       "    </tr>\n",
       "    <tr>\n",
       "      <th>1</th>\n",
       "      <td>Afghanistan</td>\n",
       "      <td>Beer</td>\n",
       "      <td>0.00</td>\n",
       "      <td>0.00</td>\n",
       "      <td>0.01</td>\n",
       "      <td>0.01</td>\n",
       "      <td>0.01</td>\n",
       "      <td>0.00</td>\n",
       "      <td>0.00</td>\n",
       "      <td>0.00</td>\n",
       "      <td>0.00</td>\n",
       "      <td>0.00</td>\n",
       "      <td>0.00</td>\n",
       "    </tr>\n",
       "    <tr>\n",
       "      <th>2</th>\n",
       "      <td>Afghanistan</td>\n",
       "      <td>Wine</td>\n",
       "      <td>0.00</td>\n",
       "      <td>0.00</td>\n",
       "      <td>0.00</td>\n",
       "      <td>0.01</td>\n",
       "      <td>0.01</td>\n",
       "      <td>0.00</td>\n",
       "      <td>0.00</td>\n",
       "      <td>0.00</td>\n",
       "      <td>0.00</td>\n",
       "      <td>0.00</td>\n",
       "      <td>0.00</td>\n",
       "    </tr>\n",
       "    <tr>\n",
       "      <th>3</th>\n",
       "      <td>Afghanistan</td>\n",
       "      <td>Spirits</td>\n",
       "      <td>0.00</td>\n",
       "      <td>0.00</td>\n",
       "      <td>0.02</td>\n",
       "      <td>0.00</td>\n",
       "      <td>0.02</td>\n",
       "      <td>0.01</td>\n",
       "      <td>0.01</td>\n",
       "      <td>0.01</td>\n",
       "      <td>0.00</td>\n",
       "      <td>0.00</td>\n",
       "      <td>0.00</td>\n",
       "    </tr>\n",
       "    <tr>\n",
       "      <th>5</th>\n",
       "      <td>Albania</td>\n",
       "      <td>All types</td>\n",
       "      <td>4.98</td>\n",
       "      <td>5.58</td>\n",
       "      <td>5.36</td>\n",
       "      <td>5.22</td>\n",
       "      <td>5.04</td>\n",
       "      <td>4.91</td>\n",
       "      <td>4.41</td>\n",
       "      <td>4.27</td>\n",
       "      <td>3.94</td>\n",
       "      <td>4.54</td>\n",
       "      <td>3.96</td>\n",
       "    </tr>\n",
       "  </tbody>\n",
       "</table>\n",
       "</div>"
      ],
      "text/plain": [
       "       Country Beverage Types  2010  2009  2008  2007  2006  2005  2004  2003  \\\n",
       "0  Afghanistan      All types  0.00  0.00  0.03  0.02  0.03  0.01  0.01  0.01   \n",
       "1  Afghanistan           Beer  0.00  0.00  0.01  0.01  0.01  0.00  0.00  0.00   \n",
       "2  Afghanistan           Wine  0.00  0.00  0.00  0.01  0.01  0.00  0.00  0.00   \n",
       "3  Afghanistan        Spirits  0.00  0.00  0.02  0.00  0.02  0.01  0.01  0.01   \n",
       "5      Albania      All types  4.98  5.58  5.36  5.22  5.04  4.91  4.41  4.27   \n",
       "\n",
       "   2002  2001  2000  \n",
       "0  0.00  0.00  0.00  \n",
       "1  0.00  0.00  0.00  \n",
       "2  0.00  0.00  0.00  \n",
       "3  0.00  0.00  0.00  \n",
       "5  3.94  4.54  3.96  "
      ]
     },
     "metadata": {},
     "output_type": "display_data"
    }
   ],
   "source": [
    "# drop columns that contain bad data or we don't need\n",
    "al = alraw.drop(alraw.columns[[1,3,4,5]], axis=1)\n",
    "\n",
    "# drop `Other alchoholic beverages` records which mostly contains no data\n",
    "al = al[al['Beverage Types'] != 'Other alcoholic beverages']\n",
    "\n",
    "# fill NaN values with zeros\n",
    "al = al.fillna(0)\n",
    "\n",
    "print \"\"\n",
    "display(al.head())"
   ]
  },
  {
   "cell_type": "markdown",
   "metadata": {},
   "source": [
    "### <span style=\"color:red\">Melt</span> data to plot easily"
   ]
  },
  {
   "cell_type": "code",
   "execution_count": 31,
   "metadata": {
    "collapsed": false
   },
   "outputs": [
    {
     "data": {
      "text/html": [
       "<div>\n",
       "<table border=\"1\" class=\"dataframe\">\n",
       "  <thead>\n",
       "    <tr style=\"text-align: right;\">\n",
       "      <th></th>\n",
       "      <th>Country</th>\n",
       "      <th>Beverage Types</th>\n",
       "      <th>Year</th>\n",
       "      <th>Consumption</th>\n",
       "    </tr>\n",
       "  </thead>\n",
       "  <tbody>\n",
       "    <tr>\n",
       "      <th>0</th>\n",
       "      <td>Afghanistan</td>\n",
       "      <td>All types</td>\n",
       "      <td>2010</td>\n",
       "      <td>0.00</td>\n",
       "    </tr>\n",
       "    <tr>\n",
       "      <th>1</th>\n",
       "      <td>Afghanistan</td>\n",
       "      <td>Beer</td>\n",
       "      <td>2010</td>\n",
       "      <td>0.00</td>\n",
       "    </tr>\n",
       "    <tr>\n",
       "      <th>2</th>\n",
       "      <td>Afghanistan</td>\n",
       "      <td>Wine</td>\n",
       "      <td>2010</td>\n",
       "      <td>0.00</td>\n",
       "    </tr>\n",
       "    <tr>\n",
       "      <th>3</th>\n",
       "      <td>Afghanistan</td>\n",
       "      <td>Spirits</td>\n",
       "      <td>2010</td>\n",
       "      <td>0.00</td>\n",
       "    </tr>\n",
       "    <tr>\n",
       "      <th>4</th>\n",
       "      <td>Albania</td>\n",
       "      <td>All types</td>\n",
       "      <td>2010</td>\n",
       "      <td>4.98</td>\n",
       "    </tr>\n",
       "    <tr>\n",
       "      <th>5</th>\n",
       "      <td>Albania</td>\n",
       "      <td>Beer</td>\n",
       "      <td>2010</td>\n",
       "      <td>1.58</td>\n",
       "    </tr>\n",
       "    <tr>\n",
       "      <th>6</th>\n",
       "      <td>Albania</td>\n",
       "      <td>Wine</td>\n",
       "      <td>2010</td>\n",
       "      <td>0.98</td>\n",
       "    </tr>\n",
       "    <tr>\n",
       "      <th>7</th>\n",
       "      <td>Albania</td>\n",
       "      <td>Spirits</td>\n",
       "      <td>2010</td>\n",
       "      <td>2.41</td>\n",
       "    </tr>\n",
       "    <tr>\n",
       "      <th>8</th>\n",
       "      <td>Algeria</td>\n",
       "      <td>All types</td>\n",
       "      <td>2010</td>\n",
       "      <td>0.11</td>\n",
       "    </tr>\n",
       "    <tr>\n",
       "      <th>9</th>\n",
       "      <td>Algeria</td>\n",
       "      <td>Beer</td>\n",
       "      <td>2010</td>\n",
       "      <td>0.07</td>\n",
       "    </tr>\n",
       "    <tr>\n",
       "      <th>10</th>\n",
       "      <td>Algeria</td>\n",
       "      <td>Wine</td>\n",
       "      <td>2010</td>\n",
       "      <td>0.04</td>\n",
       "    </tr>\n",
       "    <tr>\n",
       "      <th>11</th>\n",
       "      <td>Algeria</td>\n",
       "      <td>Spirits</td>\n",
       "      <td>2010</td>\n",
       "      <td>0.00</td>\n",
       "    </tr>\n",
       "    <tr>\n",
       "      <th>12</th>\n",
       "      <td>Andorra</td>\n",
       "      <td>All types</td>\n",
       "      <td>2010</td>\n",
       "      <td>13.31</td>\n",
       "    </tr>\n",
       "    <tr>\n",
       "      <th>13</th>\n",
       "      <td>Andorra</td>\n",
       "      <td>Beer</td>\n",
       "      <td>2010</td>\n",
       "      <td>4.61</td>\n",
       "    </tr>\n",
       "    <tr>\n",
       "      <th>14</th>\n",
       "      <td>Andorra</td>\n",
       "      <td>Wine</td>\n",
       "      <td>2010</td>\n",
       "      <td>6.03</td>\n",
       "    </tr>\n",
       "    <tr>\n",
       "      <th>15</th>\n",
       "      <td>Andorra</td>\n",
       "      <td>Spirits</td>\n",
       "      <td>2010</td>\n",
       "      <td>2.67</td>\n",
       "    </tr>\n",
       "    <tr>\n",
       "      <th>16</th>\n",
       "      <td>Angola</td>\n",
       "      <td>All types</td>\n",
       "      <td>2010</td>\n",
       "      <td>6.20</td>\n",
       "    </tr>\n",
       "    <tr>\n",
       "      <th>17</th>\n",
       "      <td>Angola</td>\n",
       "      <td>Beer</td>\n",
       "      <td>2010</td>\n",
       "      <td>3.98</td>\n",
       "    </tr>\n",
       "    <tr>\n",
       "      <th>18</th>\n",
       "      <td>Angola</td>\n",
       "      <td>Wine</td>\n",
       "      <td>2010</td>\n",
       "      <td>0.85</td>\n",
       "    </tr>\n",
       "    <tr>\n",
       "      <th>19</th>\n",
       "      <td>Angola</td>\n",
       "      <td>Spirits</td>\n",
       "      <td>2010</td>\n",
       "      <td>1.08</td>\n",
       "    </tr>\n",
       "  </tbody>\n",
       "</table>\n",
       "</div>"
      ],
      "text/plain": [
       "        Country Beverage Types  Year Consumption\n",
       "0   Afghanistan      All types  2010        0.00\n",
       "1   Afghanistan           Beer  2010        0.00\n",
       "2   Afghanistan           Wine  2010        0.00\n",
       "3   Afghanistan        Spirits  2010        0.00\n",
       "4       Albania      All types  2010        4.98\n",
       "5       Albania           Beer  2010        1.58\n",
       "6       Albania           Wine  2010        0.98\n",
       "7       Albania        Spirits  2010        2.41\n",
       "8       Algeria      All types  2010        0.11\n",
       "9       Algeria           Beer  2010        0.07\n",
       "10      Algeria           Wine  2010        0.04\n",
       "11      Algeria        Spirits  2010        0.00\n",
       "12      Andorra      All types  2010       13.31\n",
       "13      Andorra           Beer  2010        4.61\n",
       "14      Andorra           Wine  2010        6.03\n",
       "15      Andorra        Spirits  2010        2.67\n",
       "16       Angola      All types  2010        6.20\n",
       "17       Angola           Beer  2010        3.98\n",
       "18       Angola           Wine  2010        0.85\n",
       "19       Angola        Spirits  2010        1.08"
      ]
     },
     "metadata": {},
     "output_type": "display_data"
    }
   ],
   "source": [
    "almelted = pd.melt(al, id_vars=[\"Country\",\"Beverage Types\"], var_name=\"Year\", value_name=\"Consumption\")\n",
    "\n",
    "# remove rows that contain \"no data\" in Consumption\n",
    "almelted = almelted[almelted['Consumption'] != 'No data']\n",
    "\n",
    "display(almelted.head(20))\n"
   ]
  },
  {
   "cell_type": "markdown",
   "metadata": {},
   "source": [
    "### Convert `year` and `consumption` columns to integers"
   ]
  },
  {
   "cell_type": "code",
   "execution_count": 32,
   "metadata": {
    "collapsed": false
   },
   "outputs": [],
   "source": [
    "almelted['Year'] = almelted['Year'].astype(int)\n",
    "almelted['Consumption'] = almelted['Consumption'].astype(float)\n"
   ]
  },
  {
   "cell_type": "markdown",
   "metadata": {},
   "source": [
    "#### Analyze US data"
   ]
  },
  {
   "cell_type": "code",
   "execution_count": 33,
   "metadata": {
    "collapsed": false
   },
   "outputs": [
    {
     "data": {
      "text/html": [
       "<div>\n",
       "<table border=\"1\" class=\"dataframe\">\n",
       "  <thead>\n",
       "    <tr style=\"text-align: right;\">\n",
       "      <th></th>\n",
       "      <th>Country</th>\n",
       "      <th>Beverage Types</th>\n",
       "      <th>Year</th>\n",
       "      <th>Consumption</th>\n",
       "    </tr>\n",
       "  </thead>\n",
       "  <tbody>\n",
       "    <tr>\n",
       "      <th>751</th>\n",
       "      <td>United States of America</td>\n",
       "      <td>All types</td>\n",
       "      <td>2010</td>\n",
       "      <td>8.55</td>\n",
       "    </tr>\n",
       "    <tr>\n",
       "      <th>752</th>\n",
       "      <td>United States of America</td>\n",
       "      <td>Beer</td>\n",
       "      <td>2010</td>\n",
       "      <td>4.28</td>\n",
       "    </tr>\n",
       "    <tr>\n",
       "      <th>753</th>\n",
       "      <td>United States of America</td>\n",
       "      <td>Wine</td>\n",
       "      <td>2010</td>\n",
       "      <td>1.48</td>\n",
       "    </tr>\n",
       "    <tr>\n",
       "      <th>754</th>\n",
       "      <td>United States of America</td>\n",
       "      <td>Spirits</td>\n",
       "      <td>2010</td>\n",
       "      <td>2.80</td>\n",
       "    </tr>\n",
       "    <tr>\n",
       "      <th>1538</th>\n",
       "      <td>United States of America</td>\n",
       "      <td>All types</td>\n",
       "      <td>2009</td>\n",
       "      <td>8.67</td>\n",
       "    </tr>\n",
       "  </tbody>\n",
       "</table>\n",
       "</div>"
      ],
      "text/plain": [
       "                       Country Beverage Types  Year  Consumption\n",
       "751   United States of America      All types  2010         8.55\n",
       "752   United States of America           Beer  2010         4.28\n",
       "753   United States of America           Wine  2010         1.48\n",
       "754   United States of America        Spirits  2010         2.80\n",
       "1538  United States of America      All types  2009         8.67"
      ]
     },
     "metadata": {},
     "output_type": "display_data"
    }
   ],
   "source": [
    "us = almelted.loc[almelted['Country'] == 'United States of America']\n",
    "display(us.head())\n"
   ]
  },
  {
   "cell_type": "markdown",
   "metadata": {},
   "source": [
    "#### What is the <span style=\"color:red\">average</span> consumption in US for beer, wine and spirits?"
   ]
  },
  {
   "cell_type": "code",
   "execution_count": 34,
   "metadata": {
    "collapsed": false
   },
   "outputs": [
    {
     "data": {
      "text/html": [
       "<div>\n",
       "<table border=\"1\" class=\"dataframe\">\n",
       "  <thead>\n",
       "    <tr>\n",
       "      <th></th>\n",
       "      <th></th>\n",
       "      <th>Consumption</th>\n",
       "    </tr>\n",
       "    <tr>\n",
       "      <th></th>\n",
       "      <th></th>\n",
       "      <th>mean</th>\n",
       "    </tr>\n",
       "    <tr>\n",
       "      <th>Country</th>\n",
       "      <th>Beverage Types</th>\n",
       "      <th></th>\n",
       "    </tr>\n",
       "  </thead>\n",
       "  <tbody>\n",
       "    <tr>\n",
       "      <th rowspan=\"4\" valign=\"top\">United States of America</th>\n",
       "      <th>All types</th>\n",
       "      <td>8.504545</td>\n",
       "    </tr>\n",
       "    <tr>\n",
       "      <th>Beer</th>\n",
       "      <td>4.539091</td>\n",
       "    </tr>\n",
       "    <tr>\n",
       "      <th>Spirits</th>\n",
       "      <td>2.624545</td>\n",
       "    </tr>\n",
       "    <tr>\n",
       "      <th>Wine</th>\n",
       "      <td>1.341818</td>\n",
       "    </tr>\n",
       "  </tbody>\n",
       "</table>\n",
       "</div>"
      ],
      "text/plain": [
       "                                        Consumption\n",
       "                                               mean\n",
       "Country                  Beverage Types            \n",
       "United States of America All types         8.504545\n",
       "                         Beer              4.539091\n",
       "                         Spirits           2.624545\n",
       "                         Wine              1.341818"
      ]
     },
     "execution_count": 34,
     "metadata": {},
     "output_type": "execute_result"
    }
   ],
   "source": [
    "\n",
    "us.groupby(['Country','Beverage Types']).agg({'Consumption':[np.mean]})"
   ]
  },
  {
   "cell_type": "code",
   "execution_count": 35,
   "metadata": {
    "collapsed": false
   },
   "outputs": [],
   "source": [
    "# Sort year values\n",
    "us = us.sort_values(['Year'])\n",
    "\n",
    "# pull out beer, wine and spirits records\n",
    "beer = us[us['Beverage Types'] == 'Beer']\n",
    "wine = us[us['Beverage Types'] == 'Wine']\n",
    "spirits = us[us['Beverage Types'] == 'Spirits']\n"
   ]
  },
  {
   "cell_type": "code",
   "execution_count": 36,
   "metadata": {
    "collapsed": false
   },
   "outputs": [
    {
     "data": {
      "image/png": "[encoded data removed]",
      "text/plain": [
       "<matplotlib.figure.Figure at 0x6f80310>"
      ]
     },
     "metadata": {},
     "output_type": "display_data"
    }
   ],
   "source": [
    "import matplotlib.pyplot as plt\n",
    "%matplotlib inline\n",
    "plt.plot(beer['Year'],beer['Consumption'], 'b-', label='Beer')\n",
    "plt.plot(wine['Year'], wine['Consumption'], 'r-', label = 'Wine')\n",
    "plt.plot(spirits['Year'], spirits['Consumption'], 'y-', label='Spirits')\n",
    "plt.legend(loc='upper right')\n",
    "plt.title('Choice of Alcohol Trend in US')\n",
    "plt.xlabel('Year')\n",
    "plt.ylabel('Consumption')\n",
    "plt.ylim(1.0,7.5)\n",
    "plt.show()"
   ]
  },
  {
   "cell_type": "markdown",
   "metadata": {},
   "source": [
    "#### I have created a line plot.  The blue line indicates beer and from the plot, we can tell that beer is consumed the most, followed by wine. However, from year 2000 to 2010, the beer consumption is declining where as consumption for wine and spirits is rising."
   ]
  },
  {
   "cell_type": "markdown",
   "metadata": {},
   "source": [
    "### How does American consumption compare to its neighbor country, Canada?"
   ]
  },
  {
   "cell_type": "code",
   "execution_count": 37,
   "metadata": {
    "collapsed": false
   },
   "outputs": [
    {
     "name": "stdout",
     "output_type": "stream",
     "text": [
      "Country                   Beverage Types\n",
      "Canada                    All types         7.918182\n",
      "                          Beer              4.200000\n",
      "                          Spirits           2.145455\n",
      "                          Wine              1.572727\n",
      "United States of America  All types         8.504545\n",
      "                          Beer              4.539091\n",
      "                          Spirits           2.624545\n",
      "                          Wine              1.341818\n",
      "Name: Consumption, dtype: float64\n"
     ]
    },
    {
     "data": {
      "image/png": "[encoded data removed]",
      "text/plain": [
       "<matplotlib.figure.Figure at 0x6e32c50>"
      ]
     },
     "metadata": {},
     "output_type": "display_data"
    }
   ],
   "source": [
    "# Get US and Canada data\n",
    "usvscan = almelted.loc[almelted['Country'].isin(['United States of America','Canada'])]\n",
    "\n",
    "# Find the average for each bev. type\n",
    "avg = usvscan.groupby(['Country','Beverage Types'])['Consumption'].mean()\n",
    "\n",
    "print(avg)\n",
    "cnavg = avg[1:4]\n",
    "usavg = avg[5:8]\n",
    "\n",
    "# make a bar plot \n",
    "N = 3\n",
    "\n",
    "fig = plt.figure()\n",
    "ax = fig.add_subplot(111)\n",
    "\n",
    "ind = np.arange(N)                # the x locations for the groups\n",
    "width = 0.35  \n",
    "\n",
    "rects1 = ax.bar(ind, cnavg, width,color='red')\n",
    "\n",
    "rects2 = ax.bar(ind+width, usavg, width,color='blue')\n",
    "\n",
    "ax.set_xlim(-width,len(ind)+width)\n",
    "ax.set_ylim(0,6)\n",
    "ax.set_ylabel('Average')\n",
    "ax.set_title('Average Consumption')\n",
    "xTickMarks = ['Beer','Spirits','Wine']\n",
    "ax.set_xticks(ind+width)\n",
    "xtickNames = ax.set_xticklabels(xTickMarks)\n",
    "plt.setp(xtickNames, rotation=45, fontsize=10)\n",
    "\n",
    "## add a legend\n",
    "ax.legend( (rects1[0], rects2[0]), ('Canada', 'U.S.A') )\n",
    "\n",
    "plt.show()\n",
    "\n",
    "\n"
   ]
  },
  {
   "cell_type": "markdown",
   "metadata": {},
   "source": [
    "#### The average consumption for Canada and US are very close.  Beer appears to be the most popular choice.  In Canada, the average wine drinker is few points higher than America."
   ]
  },
  {
   "cell_type": "markdown",
   "metadata": {},
   "source": [
    "###How is the consumption around the world?"
   ]
  },
  {
   "cell_type": "code",
   "execution_count": 38,
   "metadata": {
    "collapsed": false
   },
   "outputs": [
    {
     "data": {
      "text/html": [
       "<div>\n",
       "<table border=\"1\" class=\"dataframe\">\n",
       "  <thead>\n",
       "    <tr>\n",
       "      <th></th>\n",
       "      <th>Consumption</th>\n",
       "    </tr>\n",
       "    <tr>\n",
       "      <th></th>\n",
       "      <th>mean</th>\n",
       "    </tr>\n",
       "    <tr>\n",
       "      <th>Beverage Types</th>\n",
       "      <th></th>\n",
       "    </tr>\n",
       "  </thead>\n",
       "  <tbody>\n",
       "    <tr>\n",
       "      <th>All types</th>\n",
       "      <td>8.504545</td>\n",
       "    </tr>\n",
       "    <tr>\n",
       "      <th>Beer</th>\n",
       "      <td>4.539091</td>\n",
       "    </tr>\n",
       "    <tr>\n",
       "      <th>Spirits</th>\n",
       "      <td>2.624545</td>\n",
       "    </tr>\n",
       "    <tr>\n",
       "      <th>Wine</th>\n",
       "      <td>1.341818</td>\n",
       "    </tr>\n",
       "  </tbody>\n",
       "</table>\n",
       "</div>"
      ],
      "text/plain": [
       "               Consumption\n",
       "                      mean\n",
       "Beverage Types            \n",
       "All types         8.504545\n",
       "Beer              4.539091\n",
       "Spirits           2.624545\n",
       "Wine              1.341818"
      ]
     },
     "execution_count": 38,
     "metadata": {},
     "output_type": "execute_result"
    }
   ],
   "source": [
    "alltypes = almelted[almelted['Beverage Types'] == 'All types']\n",
    "us.groupby(['Beverage Types']).agg({'Consumption':[np.mean]})"
   ]
  },
  {
   "cell_type": "markdown",
   "metadata": {},
   "source": [
    "#### Beer remains the most favorite alcohol type.  The trend around the world is very similar to USA."
   ]
  },
  {
   "cell_type": "markdown",
   "metadata": {},
   "source": [
    "### How is the average consumption around the world? Plot it on a map"
   ]
  },
  {
   "cell_type": "markdown",
   "metadata": {},
   "source": [
    "First, we will categorize the data.  Based on the average (mean) of `All types` and its standard deviation, we will compare how the consumption is for each country.  \n",
    "If it is higher than 1 standard deviation, it will be marked as 3 (high), if within 1 standard deviation, it will be marked 2 (low) and lower than 1 standard deviation will be marked as 1(low.)"
   ]
  },
  {
   "cell_type": "code",
   "execution_count": 39,
   "metadata": {
    "collapsed": false
   },
   "outputs": [
    {
     "data": {
      "text/html": [
       "<div>\n",
       "<table border=\"1\" class=\"dataframe\">\n",
       "  <thead>\n",
       "    <tr style=\"text-align: right;\">\n",
       "      <th></th>\n",
       "      <th>Country</th>\n",
       "      <th>Beverage Types</th>\n",
       "      <th>Year</th>\n",
       "      <th>Consumption</th>\n",
       "      <th>Range</th>\n",
       "    </tr>\n",
       "  </thead>\n",
       "  <tbody>\n",
       "    <tr>\n",
       "      <th>0</th>\n",
       "      <td>Afghanistan</td>\n",
       "      <td>All types</td>\n",
       "      <td>2010</td>\n",
       "      <td>0.00</td>\n",
       "      <td>1</td>\n",
       "    </tr>\n",
       "    <tr>\n",
       "      <th>4</th>\n",
       "      <td>Albania</td>\n",
       "      <td>All types</td>\n",
       "      <td>2010</td>\n",
       "      <td>4.98</td>\n",
       "      <td>2</td>\n",
       "    </tr>\n",
       "    <tr>\n",
       "      <th>8</th>\n",
       "      <td>Algeria</td>\n",
       "      <td>All types</td>\n",
       "      <td>2010</td>\n",
       "      <td>0.11</td>\n",
       "      <td>1</td>\n",
       "    </tr>\n",
       "    <tr>\n",
       "      <th>12</th>\n",
       "      <td>Andorra</td>\n",
       "      <td>All types</td>\n",
       "      <td>2010</td>\n",
       "      <td>13.31</td>\n",
       "      <td>3</td>\n",
       "    </tr>\n",
       "    <tr>\n",
       "      <th>16</th>\n",
       "      <td>Angola</td>\n",
       "      <td>All types</td>\n",
       "      <td>2010</td>\n",
       "      <td>6.20</td>\n",
       "      <td>2</td>\n",
       "    </tr>\n",
       "  </tbody>\n",
       "</table>\n",
       "</div>"
      ],
      "text/plain": [
       "        Country Beverage Types  Year  Consumption  Range\n",
       "0   Afghanistan      All types  2010         0.00      1\n",
       "4       Albania      All types  2010         4.98      2\n",
       "8       Algeria      All types  2010         0.11      1\n",
       "12      Andorra      All types  2010        13.31      3\n",
       "16       Angola      All types  2010         6.20      2"
      ]
     },
     "metadata": {},
     "output_type": "display_data"
    }
   ],
   "source": [
    "# remove warnings for now\n",
    "pd.options.mode.chained_assignment = None\n",
    "\n",
    "# find mean and standard deviation of total alcohol consumed around the world\n",
    "m = alltypes['Consumption'].mean()\n",
    "sd = alltypes['Consumption'].std()\n",
    "\n",
    "# create function to categorize data\n",
    "# if consumption is higher than the mean and sd, then it is set as 3 (high)\n",
    "# if consumption is lower than difference of mean and sd, then it is set to 1 (low)\n",
    "# else the consumption is 2 (mid)\n",
    "def checkRange(x):\n",
    "    if x > m + sd:\n",
    "        v = 3\n",
    "    elif x < m - sd:\n",
    "        v = 1\n",
    "    else:\n",
    "        v=2\n",
    "    return v\n",
    "\n",
    "alltypes['Range'] = [checkRange(x) for x in alltypes['Consumption']]\n",
    "\n",
    "# Clean-up country value\n",
    "alltypes['Country'] = ['United States' if x == 'United States of America' else x for x in alltypes['Country']]\n",
    "display(alltypes.head())"
   ]
  },
  {
   "cell_type": "code",
   "execution_count": 40,
   "metadata": {
    "collapsed": true
   },
   "outputs": [],
   "source": [
    "#### How is the average consumption"
   ]
  },
  {
   "cell_type": "code",
   "execution_count": 41,
   "metadata": {
    "collapsed": false
   },
   "outputs": [
    {
     "data": {
      "text/html": [
       "<div>\n",
       "<table border=\"1\" class=\"dataframe\">\n",
       "  <thead>\n",
       "    <tr style=\"text-align: right;\">\n",
       "      <th></th>\n",
       "      <th>Country</th>\n",
       "      <th>Beverage Types</th>\n",
       "      <th>Year</th>\n",
       "      <th>Consumption</th>\n",
       "      <th>Range</th>\n",
       "      <th>drop</th>\n",
       "      <th>Code</th>\n",
       "    </tr>\n",
       "  </thead>\n",
       "  <tbody>\n",
       "    <tr>\n",
       "      <th>0</th>\n",
       "      <td>Afghanistan</td>\n",
       "      <td>All types</td>\n",
       "      <td>2010</td>\n",
       "      <td>0.00</td>\n",
       "      <td>1</td>\n",
       "      <td>21.71</td>\n",
       "      <td>AFG</td>\n",
       "    </tr>\n",
       "    <tr>\n",
       "      <th>1</th>\n",
       "      <td>Afghanistan</td>\n",
       "      <td>All types</td>\n",
       "      <td>2009</td>\n",
       "      <td>0.00</td>\n",
       "      <td>1</td>\n",
       "      <td>21.71</td>\n",
       "      <td>AFG</td>\n",
       "    </tr>\n",
       "    <tr>\n",
       "      <th>2</th>\n",
       "      <td>Afghanistan</td>\n",
       "      <td>All types</td>\n",
       "      <td>2008</td>\n",
       "      <td>0.03</td>\n",
       "      <td>1</td>\n",
       "      <td>21.71</td>\n",
       "      <td>AFG</td>\n",
       "    </tr>\n",
       "    <tr>\n",
       "      <th>3</th>\n",
       "      <td>Afghanistan</td>\n",
       "      <td>All types</td>\n",
       "      <td>2007</td>\n",
       "      <td>0.02</td>\n",
       "      <td>1</td>\n",
       "      <td>21.71</td>\n",
       "      <td>AFG</td>\n",
       "    </tr>\n",
       "    <tr>\n",
       "      <th>4</th>\n",
       "      <td>Afghanistan</td>\n",
       "      <td>All types</td>\n",
       "      <td>2006</td>\n",
       "      <td>0.03</td>\n",
       "      <td>1</td>\n",
       "      <td>21.71</td>\n",
       "      <td>AFG</td>\n",
       "    </tr>\n",
       "  </tbody>\n",
       "</table>\n",
       "</div>"
      ],
      "text/plain": [
       "       Country Beverage Types  Year  Consumption  Range   drop Code\n",
       "0  Afghanistan      All types  2010         0.00      1  21.71  AFG\n",
       "1  Afghanistan      All types  2009         0.00      1  21.71  AFG\n",
       "2  Afghanistan      All types  2008         0.03      1  21.71  AFG\n",
       "3  Afghanistan      All types  2007         0.02      1  21.71  AFG\n",
       "4  Afghanistan      All types  2006         0.03      1  21.71  AFG"
      ]
     },
     "metadata": {},
     "output_type": "display_data"
    }
   ],
   "source": [
    "# read a csv file that contains country codes - we are only interested in country and its code\n",
    "codes = pd.read_csv('https://raw.githubusercontent.com/plotly/datasets/master/2014_world_gdp_with_codes.csv',\n",
    "                 names=['Country','drop','Code']) \n",
    "alltypes = pd.merge(alltypes, codes, on='Country')\n",
    "display(alltypes.head())"
   ]
  },
  {
   "cell_type": "markdown",
   "metadata": {},
   "source": [
    "I will be using `plotly` package that hosts the graphs on a remote site.  I needed to get an API key which is used in the following code.  The graph is then embeded on to this notebook "
   ]
  },
  {
   "cell_type": "code",
   "execution_count": 42,
   "metadata": {
    "collapsed": false
   },
   "outputs": [
    {
     "data": {
      "text/html": [
       "<iframe id=\"igraph\" scrolling=\"no\" style=\"border:none;\" seamless=\"seamless\" src=\"https://plot.ly/~pauluck/0.embed\" height=\"525\" width=\"100%\"></iframe>"
      ],
      "text/plain": [
       "<plotly.tools.PlotlyDisplay object>"
      ]
     },
     "execution_count": 42,
     "metadata": {},
     "output_type": "execute_result"
    }
   ],
   "source": [
    "\n",
    "import plotly.plotly as py\n",
    "import pandas as pd\n",
    "from plotly.graph_objs import *\n",
    "\n",
    "altype = almelted[almelted['Beverage Types'] == 'All types']\n",
    "df = pd.read_csv('https://raw.githubusercontent.com/plotly/datasets/master/2014_world_gdp_with_codes.csv')\n",
    "py.sign_in('pauluck','b4bhgp5rck')\n",
    "data = [ dict(\n",
    "        type = 'choropleth',\n",
    "        locations = alltypes['Code'],\n",
    "        z = alltypes['Range'],\n",
    "        text = alltypes['Country'],\n",
    "       colorscale = [[0,\"red\"],[0.35,\"rgb(40, 60, 190)\"],[0.5,\"rgb(70, 100, 245)\"],\\\n",
    "            [0.6,\"rgb(90, 120, 245)\"],[0.7,\"rgb(106, 137, 247)\"],[1,\"rgb(220, 220, 220)\"]],\n",
    "        autocolorscale = False,\n",
    "        reversescale = True,\n",
    "        marker = dict(\n",
    "            line = dict (\n",
    "                color = 'rgb(180,180,180)',\n",
    "                width = 0.5\n",
    "            )\n",
    "        ),\n",
    "        colorbar = dict(\n",
    "            autotick = False,\n",
    "            title = 'Consumption Categories: 3-high, 2-med and 1-low'\n",
    "        ),\n",
    "    ) ]\n",
    "\n",
    "layout = dict(\n",
    "    title = 'World Wide Alcohol Consumption',\n",
    "    geo = dict(\n",
    "        showframe = False,\n",
    "        showcoastlines = False,\n",
    "        projection = dict(\n",
    "            type = 'Mercator'\n",
    "        )\n",
    "    )\n",
    ")\n",
    "\n",
    "fig = dict( data=data, layout=layout )\n",
    "#py.plot( fig, validate=False, filename='d3-world-map' )\n",
    "\n",
    "# embed the graph\n",
    "import plotly.tools as tls\n",
    "tls.embed(\"https://plot.ly/~pauluck/0\")\n",
    "\n",
    "\n"
   ]
  },
  {
   "cell_type": "markdown",
   "metadata": {
    "collapsed": true
   },
   "source": [
    "### Conclusion"
   ]
  },
  {
   "cell_type": "markdown",
   "metadata": {},
   "source": [
    "#### The alcohol consumption is highest in Australia, also in few European and African countries.  The lowest consumption is in northern region of Africa.  The consumption in North and South America remains average.  The favorite alcohol is beer in America and around the world!"
   ]
  },
  {
   "cell_type": "code",
   "execution_count": null,
   "metadata": {
    "collapsed": true
   },
   "outputs": [],
   "source": []
  }
 ],
 "metadata": {
  "kernelspec": {
   "display_name": "Python 2",
   "language": "python",
   "name": "python2"
  },
  "language_info": {
   "codemirror_mode": {
    "name": "ipython",
    "version": 2
   },
   "file_extension": ".py",
   "mimetype": "text/x-python",
   "name": "python",
   "nbconvert_exporter": "python",
   "pygments_lexer": "ipython2",
   "version": "2.7.11"
  }
 },
 "nbformat": 4,
 "nbformat_minor": 0
}
